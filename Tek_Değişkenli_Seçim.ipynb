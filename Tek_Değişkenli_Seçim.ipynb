{
  "nbformat": 4,
  "nbformat_minor": 0,
  "metadata": {
    "colab": {
      "provenance": []
    },
    "kernelspec": {
      "name": "python3",
      "display_name": "Python 3"
    },
    "language_info": {
      "name": "python"
    }
  },
  "cells": [
    {
      "cell_type": "code",
      "execution_count": 23,
      "metadata": {
        "colab": {
          "base_uri": "https://localhost:8080/"
        },
        "id": "sRRfdZ3vO6xc",
        "outputId": "80f4682c-7cca-4790-aef0-9bbf7c5a5f70"
      },
      "outputs": [
        {
          "output_type": "stream",
          "name": "stdout",
          "text": [
            "          Özellikler        Skor\n",
            "2  petal length (cm)  116.312613\n",
            "3   petal width (cm)   67.048360\n"
          ]
        }
      ],
      "source": [
        "import pandas as pd\n",
        "from sklearn.datasets import load_iris\n",
        "from sklearn.feature_selection import SelectKBest\n",
        "from sklearn.feature_selection import chi2\n",
        "\n",
        "# Iris veri kümesini yükleyin\n",
        "iris = load_iris()\n",
        "X = iris.data  # Bağımsız değişkenler\n",
        "y = iris.target  # Hedef değişken\n",
        "\n",
        "# SelectKBest sınıfını kullanarak en iyi 2 özelliği seçmek için uygulama\n",
        "bestfeatures = SelectKBest(score_func=chi2, k=2)\n",
        "fit = bestfeatures.fit(X, y)\n",
        "\n",
        "# Özellik skorlarını ve isimlerini içeren DataFrame'leri oluşturun\n",
        "dfscores = pd.DataFrame(fit.scores_)\n",
        "dfcolumns = pd.DataFrame(iris.feature_names)\n",
        "\n",
        "# Skorları büyükten küçüğe sıralayın ve en iyi 2 özelliği yazdırın\n",
        "scores = pd.concat([dfcolumns, dfscores], axis=1)\n",
        "scores.columns = ['Özellikler', 'Skor']\n",
        "print(scores.nlargest(2, 'Skor'))\n"
      ]
    },
    {
      "cell_type": "markdown",
      "source": [
        "Bu, Iris veri kümesindeki en önemli 2 özelliği ve bu özelliklerin skorlarını gösterir."
      ],
      "metadata": {
        "id": "guwl3vwArrvh"
      }
    }
  ]
}